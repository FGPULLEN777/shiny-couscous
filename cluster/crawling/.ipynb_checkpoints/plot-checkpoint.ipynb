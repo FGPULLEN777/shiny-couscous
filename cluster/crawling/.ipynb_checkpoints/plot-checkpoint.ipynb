{
 "cells": [
  {
   "cell_type": "code",
   "execution_count": 2,
   "metadata": {
    "collapsed": false
   },
   "outputs": [],
   "source": [
    "%matplotlib inline"
   ]
  },
  {
   "cell_type": "raw",
   "metadata": {
    "collapsed": false,
    "scrolled": true
   },
   "source": [
    "import matplotlib.pyplot as plt\n",
    "import numpy as np\n"
   ]
  },
  {
   "cell_type": "code",
   "execution_count": 12,
   "metadata": {
    "collapsed": false
   },
   "outputs": [
    {
     "name": "stdout",
     "output_type": "stream",
     "text": [
      "0.98\n",
      "0.54\n",
      "0.99\n",
      "0.48\n",
      "0.993333333333\n",
      "0.44\n",
      "0.965\n",
      "0.33\n",
      "0.88\n",
      "0.264\n",
      "0.84\n",
      "0.22\n",
      "0.851428571429\n",
      "0.26\n",
      "0.84\n",
      "0.2475\n",
      "0.851111111111\n",
      "0.244444444444\n",
      "0.856\n",
      "0.272\n",
      "0.869090909091\n",
      "0.265454545455\n",
      "0.88\n",
      "0.246666666667\n",
      "0.873846153846\n",
      "0.232307692308\n",
      "0.882857142857\n",
      "0.217142857143\n",
      "0.890666666667\n",
      "0.204\n",
      "0.8875\n",
      "0.195\n",
      "0.887058823529\n",
      "0.183529411765\n",
      "0.887777777778\n",
      "0.175555555556\n",
      "0.887368421053\n",
      "0.167368421053\n",
      "0.888\n",
      "0.161\n"
     ]
    },
    {
     "data": {
      "text/html": [
       "<iframe id=\"igraph\" scrolling=\"no\" style=\"border:none;\" seamless=\"seamless\" src=\"https://plot.ly/~rivercold/14.embed\" height=\"525px\" width=\"100%\"></iframe>"
      ],
      "text/plain": [
       "<plotly.tools.PlotlyDisplay object>"
      ]
     },
     "execution_count": 12,
     "metadata": {},
     "output_type": "execute_result"
    }
   ],
   "source": [
    "import plotly.plotly as py\n",
    "from plotly.graph_objs import *\n",
    "import plotly.tools as tls\n",
    "from eval_crawl import eval_crawl\n",
    "\n",
    "tls.set_credentials_file(username='rivercold', api_key='imqumdll1d')\n",
    "\n",
    "eval = eval_crawl(\"asp\",\"May1\",1,1000,\"sort\")\n",
    "eval_bfs = eval_crawl(\"asp\",\"May1\",1,1000,\"bfs\")\n",
    "\n",
    "p_bfs = []\n",
    "p_sort = []\n",
    "x_axis = []\n",
    "\n",
    "for crawl_num in range(50,1050,50):\n",
    "    #print crawl_num\n",
    "    x_axis.append(crawl_num)\n",
    "    p_sort.append(eval.eval(crawl_num))\n",
    "    p_bfs.append(eval_bfs.eval(crawl_num))\n",
    "\n",
    "trace0 = Scatter(\n",
    "  y = p_sort,\n",
    "  x = x_axis\n",
    "  name = \"our method\"\n",
    ")\n",
    "trace1 = Scatter(\n",
    "  y = p_bfs,\n",
    "  x = x_axis\n",
    "  name = \"bfs\"\n",
    ")\n",
    "data = Data([trace0, trace1])\n",
    "layout = dict(title = 'Styled Scatter',\n",
    "              yaxis = dict(zeroline = False),\n",
    "              xaxis = dict(zeroline = False)\n",
    "             )\n",
    "\n",
    "py.iplot(data, filename = 'basic-line')"
   ]
  },
  {
   "cell_type": "code",
   "execution_count": 5,
   "metadata": {
    "collapsed": false
   },
   "outputs": [],
   "source": [
    "\n"
   ]
  },
  {
   "cell_type": "code",
   "execution_count": null,
   "metadata": {
    "collapsed": true
   },
   "outputs": [],
   "source": []
  },
  {
   "cell_type": "code",
   "execution_count": null,
   "metadata": {
    "collapsed": false
   },
   "outputs": [],
   "source": []
  },
  {
   "cell_type": "code",
   "execution_count": null,
   "metadata": {
    "collapsed": true
   },
   "outputs": [],
   "source": []
  }
 ],
 "metadata": {
  "kernelspec": {
   "display_name": "Python 2",
   "language": "python",
   "name": "python2"
  },
  "language_info": {
   "codemirror_mode": {
    "name": "ipython",
    "version": 2
   },
   "file_extension": ".py",
   "mimetype": "text/x-python",
   "name": "python",
   "nbconvert_exporter": "python",
   "pygments_lexer": "ipython2",
   "version": "2.7.11"
  }
 },
 "nbformat": 4,
 "nbformat_minor": 0
}
