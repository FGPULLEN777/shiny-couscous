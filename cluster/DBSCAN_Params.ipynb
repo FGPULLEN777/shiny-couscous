{
 "cells": [
  {
   "cell_type": "code",
   "execution_count": 4,
   "metadata": {
    "collapsed": false
   },
   "outputs": [],
   "source": [
    "%matplotlib inline "
   ]
  },
  {
   "cell_type": "code",
   "execution_count": 5,
   "metadata": {
    "collapsed": false,
    "scrolled": true
   },
   "outputs": [
    {
     "ename": "ImportError",
     "evalue": "No module named seaborn",
     "output_type": "error",
     "traceback": [
      "\u001b[0;31m---------------------------------------------------------------------------\u001b[0m",
      "\u001b[0;31mImportError\u001b[0m                               Traceback (most recent call last)",
      "\u001b[0;32m<ipython-input-5-d4ae70667355>\u001b[0m in \u001b[0;36m<module>\u001b[0;34m()\u001b[0m\n\u001b[1;32m      9\u001b[0m \u001b[0;32mfrom\u001b[0m \u001b[0msklearn\u001b[0m\u001b[0;34m.\u001b[0m\u001b[0mpreprocessing\u001b[0m \u001b[0;32mimport\u001b[0m \u001b[0mPolynomialFeatures\u001b[0m\u001b[0;34m\u001b[0m\u001b[0m\n\u001b[1;32m     10\u001b[0m \u001b[0;32mfrom\u001b[0m \u001b[0msklearn\u001b[0m\u001b[0;34m.\u001b[0m\u001b[0mpipeline\u001b[0m \u001b[0;32mimport\u001b[0m \u001b[0mmake_pipeline\u001b[0m\u001b[0;34m\u001b[0m\u001b[0m\n\u001b[0;32m---> 11\u001b[0;31m \u001b[0;32mimport\u001b[0m \u001b[0mseaborn\u001b[0m \u001b[0;32mas\u001b[0m \u001b[0msns\u001b[0m\u001b[0;34m\u001b[0m\u001b[0m\n\u001b[0m\u001b[1;32m     12\u001b[0m \u001b[0msns\u001b[0m\u001b[0;34m.\u001b[0m\u001b[0mset\u001b[0m\u001b[0;34m(\u001b[0m\u001b[0mcolor_codes\u001b[0m\u001b[0;34m=\u001b[0m\u001b[0mTrue\u001b[0m\u001b[0;34m)\u001b[0m\u001b[0;34m\u001b[0m\u001b[0m\n\u001b[1;32m     13\u001b[0m \u001b[0;32mfrom\u001b[0m \u001b[0msklearn\u001b[0m \u001b[0;32mimport\u001b[0m \u001b[0mlinear_model\u001b[0m\u001b[0;34m\u001b[0m\u001b[0m\n",
      "\u001b[0;31mImportError\u001b[0m: No module named seaborn"
     ]
    }
   ],
   "source": [
    "import sys\n",
    "sys.path.insert(0, \"../script/\")\n",
    "sys.path.insert(0, \"../cluster/\")\n",
    "import numpy as np\n",
    "import matplotlib.pyplot as plt\n",
    "from sklearn.preprocessing import normalize\n",
    "from sklearn.neighbors import NearestNeighbors\n",
    "from sklearn.linear_model import Ridge\n",
    "from sklearn.preprocessing import PolynomialFeatures\n",
    "from sklearn.pipeline import make_pipeline\n",
    "import seaborn as sns\n",
    "sns.set(color_codes=True)\n",
    "from sklearn import linear_model\n",
    "import numpy as np"
   ]
  },
  {
   "cell_type": "code",
   "execution_count": 6,
   "metadata": {
    "collapsed": false
   },
   "outputs": [],
   "source": [
    "sitelist = [\"asp\", \"douban\", \"stackexchange\", \"tripadvisor\",\"youtube\"]\n",
    "feat_dict = {}\n",
    "for site in sitelist:\n",
    "    feat_dict[site] = []\n",
    "    with open(\"./May1/feature/\" + site + \"/log_tf_idf.txt\") as fin:\n",
    "    #with open(\"./crawling/May1/feature/\"+ site +\"/log_tf_idf.txt\") as fin:\n",
    "        for line in fin:\n",
    "            _, vector = line.strip().split(':')\n",
    "            vector = [float(x) for x in vector.split()]\n",
    "            feat_dict[site].append(vector)\n",
    "    feat_dict[site] = np.asarray(feat_dict[site])"
   ]
  },
  {
   "cell_type": "code",
   "execution_count": 7,
   "metadata": {
    "collapsed": false
   },
   "outputs": [
    {
     "name": "stdout",
     "output_type": "stream",
     "text": [
      "number of feats  403\n",
      "2 0.275788677886\n",
      "6 0.257343201208\n",
      "12 0.140934918889\n",
      "17 0.256718397093\n",
      "18 0.384187671841\n",
      "24 0.111241083728\n",
      "42 0.39469743294\n",
      "43 0.39469743294\n",
      "60 0.180560569931\n",
      "63 0.191312962992\n",
      "66 0.191312962992\n",
      "69 0.203169324238\n",
      "70 0.587951777632\n",
      "71 0.275788677886\n",
      "72 0.295178571105\n",
      "73 0.443175163319\n",
      "74 0.227801747765\n",
      "75 0.227801747765\n",
      "76 0.227801747765\n",
      "77 0.922871316781\n",
      "78 0.276698726507\n",
      "106 0.414857417362\n",
      "118 0.414857417362\n",
      "126 0.339972849646\n",
      "127 0.36223269343\n",
      "128 0.265821355892\n",
      "146 0.126542229764\n",
      "167 0.103997474474\n",
      "240 0.109929435016\n",
      "335 0.903810447314\n",
      "336 0.903810447314\n",
      "378 0.313082975006\n",
      "379 0.313320635985\n",
      "398 0.125688580549\n",
      "536 0.107915566299\n",
      "538 0.103999791222\n",
      "541 0.18958901729\n",
      "567 0.11068808215\n",
      "599 0.103159400194\n",
      "604 0.269042700279\n",
      "605 0.129451470776\n",
      "606 0.131038782961\n",
      "607 0.268884759257\n",
      "608 0.366216197397\n",
      "616 0.192040682713\n",
      "626 0.104820862913\n",
      "630 0.323441044046\n",
      "698 0.193578642073\n",
      "699 0.127612531828\n",
      "700 0.26802779886\n",
      "702 0.191399993103\n",
      "709 0.173615561813\n",
      "735 0.10886730794\n",
      "740 0.110986103695\n",
      "754 0.109589266047\n",
      "766 0.15620079625\n",
      "783 0.211456130077\n",
      "784 0.124466739914\n",
      "786 0.192040682713\n",
      "790 0.178577028743\n",
      "796 0.196896409309\n",
      "798 0.178751263621\n",
      "805 0.201885716669\n",
      "814 0.128142398504\n",
      "815 0.115948282584\n",
      "816 0.108596275415\n",
      "825 0.118249304722\n",
      "847 0.126082044158\n",
      "904 0.40649932107\n",
      "905 0.428558351838\n",
      "912 0.281425013316\n",
      "913 0.272891963356\n",
      "914 0.281359746054\n",
      "915 0.402089339815\n",
      "955 0.135223093761\n",
      "963 0.405617318074\n",
      "964 0.287493604062\n",
      "80 num_bins\n",
      "[ 0.          0.01153589  0.02307178  0.03460767  0.04614357  0.05767946\n",
      "  0.06921535  0.08075124  0.09228713  0.10382302  0.11535891  0.12689481\n",
      "  0.1384307   0.14996659  0.16150248  0.17303837  0.18457426  0.19611015\n",
      "  0.20764605  0.21918194  0.23071783  0.24225372  0.25378961  0.2653255\n",
      "  0.2768614   0.28839729  0.29993318  0.31146907  0.32300496  0.33454085\n",
      "  0.34607674  0.35761264  0.36914853  0.38068442  0.39222031  0.4037562\n",
      "  0.41529209  0.42682798  0.43836388  0.44989977  0.46143566  0.47297155\n",
      "  0.48450744  0.49604333  0.50757922  0.51911512  0.53065101  0.5421869\n",
      "  0.55372279  0.56525868  0.57679457  0.58833046  0.59986636  0.61140225\n",
      "  0.62293814  0.63447403  0.64600992  0.65754581  0.6690817   0.6806176\n",
      "  0.69215349  0.70368938  0.71522527  0.72676116  0.73829705  0.74983294\n",
      "  0.76136884  0.77290473  0.78444062  0.79597651  0.8075124   0.81904829\n",
      "  0.83058419  0.84212008  0.85365597  0.86519186  0.87672775  0.88826364\n",
      "  0.89979953  0.91133543  0.92287132]\n",
      "[ 248.  171.  178.  136.   84.   50.   20.   22.   15.   11.    6.    5.\n",
      "    1.    1.    0.    4.    7.    3.    1.    3.    0.    0.    2.    8.\n",
      "    3.    1.    0.    2.    1.    1.    0.    2.    0.    1.    3.    4.\n",
      "    0.    1.    1.    0.    0.    0.    0.    0.    0.    0.    0.    0.\n",
      "    0.    0.    1.    0.    0.    0.    0.    0.    0.    0.    0.    0.\n",
      "    0.    0.    0.    0.    0.    0.    0.    0.    0.    0.    0.    0.\n",
      "    0.    0.    0.    0.    0.    0.    2.    1.]\n"
     ]
    },
    {
     "data": {
      "image/png": "[encoded data removed]",
      "text/plain": [
       "<matplotlib.figure.Figure at 0x10bf8a210>"
      ]
     },
     "metadata": {},
     "output_type": "display_data"
    },
    {
     "name": "stdout",
     "output_type": "stream",
     "text": [
      "0.138430697517\n"
     ]
    }
   ],
   "source": [
    "site=\"douban\"\n",
    "X = feat_dict[site]\n",
    "\n",
    "X = normalize(X, norm='l1')\n",
    "num_feat = len(X[0])\n",
    "print \"number of feats \", num_feat\n",
    "\n",
    "K = 100\n",
    "kdist_list = []\n",
    "nbrs = NearestNeighbors(n_neighbors=K, algorithm=\"ball_tree\").fit(X)\n",
    "distances, indices = nbrs.kneighbors(X)\n",
    "for dist in distances:\n",
    "    kdist_list += dist.tolist()[4:5]\n",
    "\n",
    "\n",
    "for index, value in enumerate(kdist_list):\n",
    "    if value > 0.10:\n",
    "        print index, value\n",
    "\n",
    "num_bins = int(num_feat/5)\n",
    "print num_bins, \"num_bins\"\n",
    "n, bins, _ = plt.hist(kdist_list, bins=num_bins)\n",
    "line1 = plt.plot(4,color=\"r\",label=\"question_tf-idf\")\n",
    "\n",
    "print bins\n",
    "print n\n",
    "# plt.yscale('log')\n",
    "plt.show()\n",
    "\n",
    "y = np.array([np.log(x) if x > 0 else 0 for x in n])\n",
    "x = np.array(bins[1:]).reshape(-1, 1)\n",
    "threshold = np.mean(n[100/3:])\n",
    "threshold = 4\n",
    "\n",
    "\n",
    "for idx, val in enumerate(n):\n",
    "    if val < threshold and idx > 5:\n",
    "        eps = bins[idx]\n",
    "        break\n",
    "print eps"
   ]
  },
  {
   "cell_type": "code",
   "execution_count": 8,
   "metadata": {
    "collapsed": false
   },
   "outputs": [
    {
     "data": {
      "image/png": "[encoded data removed]",
      "text/plain": [
       "<matplotlib.figure.Figure at 0x10bf10a50>"
      ]
     },
     "metadata": {},
     "output_type": "display_data"
    },
    {
     "data": {
      "text/plain": [
       "array([   0.,   15.,   30.,   45.,   60.,   75.,   90.,  105.,  120.,\n",
       "        135.,  150.])"
      ]
     },
     "execution_count": 8,
     "metadata": {},
     "output_type": "execute_result"
    }
   ],
   "source": [
    "nbrs = NearestNeighbors(radius=eps, algorithm=\"ball_tree\").fit(X)\n",
    "distances, indices = nbrs.radius_neighbors(X, radius=eps)\n",
    "nbr_num_list = []\n",
    "for ind in indices:\n",
    "    nbr_num_list.append(len(ind) - 1)\n",
    "n, bins, _ = plt.hist(nbr_num_list, bins=10)\n",
    "plt.show()\n",
    "bins"
   ]
  },
  {
   "cell_type": "code",
   "execution_count": null,
   "metadata": {
    "collapsed": true
   },
   "outputs": [],
   "source": []
  },
  {
   "cell_type": "code",
   "execution_count": null,
   "metadata": {
    "collapsed": true
   },
   "outputs": [],
   "source": []
  }
 ],
 "metadata": {
  "kernelspec": {
   "display_name": "Python 2",
   "language": "python",
   "name": "python2"
  },
  "language_info": {
   "codemirror_mode": {
    "name": "ipython",
    "version": 2
   },
   "file_extension": ".py",
   "mimetype": "text/x-python",
   "name": "python",
   "nbconvert_exporter": "python",
   "pygments_lexer": "ipython2",
   "version": "2.7.11"
  }
 },
 "nbformat": 4,
 "nbformat_minor": 0
}
