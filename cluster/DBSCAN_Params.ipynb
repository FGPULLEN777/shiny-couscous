{
 "cells": [
  {
   "cell_type": "code",
   "execution_count": 1,
   "metadata": {},
   "outputs": [],
   "source": [
    "%matplotlib inline"
   ]
  },
  {
   "cell_type": "code",
   "execution_count": 2,
   "metadata": {},
   "outputs": [
    {
     "ename": "ImportError",
     "evalue": "No module named seaborn",
     "output_type": "error",
     "traceback": [
      "\u001b[0;31m---------------------------------------------------------------------------\u001b[0m",
      "\u001b[0;31mImportError\u001b[0m                               Traceback (most recent call last)",
      "\u001b[0;32m<ipython-input-2-d4ae70667355>\u001b[0m in \u001b[0;36m<module>\u001b[0;34m()\u001b[0m\n\u001b[1;32m      9\u001b[0m \u001b[0;32mfrom\u001b[0m \u001b[0msklearn\u001b[0m\u001b[0;34m.\u001b[0m\u001b[0mpreprocessing\u001b[0m \u001b[0;32mimport\u001b[0m \u001b[0mPolynomialFeatures\u001b[0m\u001b[0;34m\u001b[0m\u001b[0m\n\u001b[1;32m     10\u001b[0m \u001b[0;32mfrom\u001b[0m \u001b[0msklearn\u001b[0m\u001b[0;34m.\u001b[0m\u001b[0mpipeline\u001b[0m \u001b[0;32mimport\u001b[0m \u001b[0mmake_pipeline\u001b[0m\u001b[0;34m\u001b[0m\u001b[0m\n\u001b[0;32m---> 11\u001b[0;31m \u001b[0;32mimport\u001b[0m \u001b[0mseaborn\u001b[0m \u001b[0;32mas\u001b[0m \u001b[0msns\u001b[0m\u001b[0;34m\u001b[0m\u001b[0m\n\u001b[0m\u001b[1;32m     12\u001b[0m \u001b[0msns\u001b[0m\u001b[0;34m.\u001b[0m\u001b[0mset\u001b[0m\u001b[0;34m(\u001b[0m\u001b[0mcolor_codes\u001b[0m\u001b[0;34m=\u001b[0m\u001b[0mTrue\u001b[0m\u001b[0;34m)\u001b[0m\u001b[0;34m\u001b[0m\u001b[0m\n\u001b[1;32m     13\u001b[0m \u001b[0;32mfrom\u001b[0m \u001b[0msklearn\u001b[0m \u001b[0;32mimport\u001b[0m \u001b[0mlinear_model\u001b[0m\u001b[0;34m\u001b[0m\u001b[0m\n",
      "\u001b[0;31mImportError\u001b[0m: No module named seaborn"
     ]
    }
   ],
   "source": [
    "import sys\n",
    "sys.path.insert(0, \"../script/\")\n",
    "sys.path.insert(0, \"../cluster/\")\n",
    "import numpy as np\n",
    "import matplotlib.pyplot as plt\n",
    "from sklearn.preprocessing import normalize\n",
    "from sklearn.neighbors import NearestNeighbors\n",
    "from sklearn.linear_model import Ridge\n",
    "from sklearn.preprocessing import PolynomialFeatures\n",
    "from sklearn.pipeline import make_pipeline\n",
    "import seaborn as sns\n",
    "sns.set(color_codes=True)\n",
    "from sklearn import linear_model\n",
    "import numpy as np"
   ]
  },
  {
   "cell_type": "code",
   "execution_count": 3,
   "metadata": {},
   "outputs": [],
   "source": [
    "#sitelist = [\"asp\", \"douban\", \"stackexchange\", \"tripadvisor\",\"youtube\",\"rottentomatoes\"]\n",
    "sitelist = [\"rottentomatoes\"]\n",
    "feat_dict = {}\n",
    "for site in sitelist:\n",
    "    feat_dict[site] = []\n",
    "    with open(\"./June29/feature/\" + site + \"/log_tf_idf.txt\") as fin:\n",
    "    #with open(\"./crawling/May1/feature/\"+ site +\"/log_tf_idf.txt\") as fin:\n",
    "        for line in fin:\n",
    "            _, vector = line.strip().split(':')\n",
    "            vector = [float(x) for x in vector.split()]\n",
    "            feat_dict[site].append(vector)\n",
    "    feat_dict[site] = np.asarray(feat_dict[site])"
   ]
  },
  {
   "cell_type": "code",
   "execution_count": 4,
   "metadata": {},
   "outputs": [
    {
     "name": "stdout",
     "output_type": "stream",
     "text": [
      "number of feats  359\n",
      "0 0.204859555803\n",
      "1 0.204859555803\n",
      "2 0.204859555803\n",
      "3 0.205674318778\n",
      "4 0.194503980424\n",
      "5 0.194503980424\n",
      "30 0.153396245567\n",
      "40 0.187668724518\n",
      "112 0.120282755179\n",
      "144 0.108990097586\n",
      "190 0.101137909379\n",
      "215 0.116813093942\n",
      "273 0.170866526941\n",
      "294 0.170866526941\n",
      "295 0.207206222306\n",
      "361 0.125173236499\n",
      "376 0.118503655445\n",
      "382 0.123036352758\n",
      "397 0.15764827823\n",
      "398 0.135385526104\n",
      "402 0.123892452707\n",
      "404 0.114466276122\n",
      "408 0.123036352758\n",
      "409 0.114120402614\n",
      "424 0.327120858949\n",
      "428 0.271472614675\n",
      "432 0.291434051528\n",
      "433 0.241491967743\n",
      "448 0.109164343944\n",
      "511 0.131304861601\n",
      "591 0.110453863038\n",
      "597 0.129743245015\n",
      "644 0.124152597791\n",
      "682 0.146377245076\n",
      "720 0.131304861601\n",
      "748 0.130680798531\n",
      "822 0.129743245015\n",
      "863 0.101219058664\n",
      "869 0.101219058664\n",
      "872 0.219338771592\n",
      "873 0.220776880902\n",
      "874 0.124381045677\n",
      "875 0.204558367192\n",
      "876 0.220776880902\n",
      "877 0.156584294654\n",
      "882 0.150426766545\n",
      "937 0.145971914388\n",
      "942 0.153798274007\n",
      "945 0.210501653529\n",
      "949 0.153765864195\n",
      "955 0.117511011908\n",
      "957 0.140002663178\n",
      "959 0.128910874033\n",
      "963 0.27996298272\n",
      "990 0.117908538789\n",
      "991 0.118719876509\n",
      "999 0.128910874033\n",
      "1007 0.108418078539\n",
      "1009 0.223146391562\n",
      "71 num_bins\n",
      "[ 0.          0.00460734  0.00921467  0.01382201  0.01842934  0.02303668\n",
      "  0.02764402  0.03225135  0.03685869  0.04146602  0.04607336  0.0506807\n",
      "  0.05528803  0.05989537  0.0645027   0.06911004  0.07371738  0.07832471\n",
      "  0.08293205  0.08753938  0.09214672  0.09675406  0.10136139  0.10596873\n",
      "  0.11057606  0.1151834   0.11979074  0.12439807  0.12900541  0.13361275\n",
      "  0.13822008  0.14282742  0.14743475  0.15204209  0.15664943  0.16125676\n",
      "  0.1658641   0.17047143  0.17507877  0.17968611  0.18429344  0.18890078\n",
      "  0.19350811  0.19811545  0.20272279  0.20733012  0.21193746  0.21654479\n",
      "  0.22115213  0.22575947  0.2303668   0.23497414  0.23958147  0.24418881\n",
      "  0.24879615  0.25340348  0.25801082  0.26261815  0.26722549  0.27183283\n",
      "  0.27644016  0.2810475   0.28565483  0.29026217  0.29486951  0.29947684\n",
      "  0.30408418  0.30869151  0.31329885  0.31790619  0.32251352  0.32712086]\n",
      "[ 197.   35.   74.   68.   63.   57.   75.   74.   43.   49.   45.   38.\n",
      "   28.   21.   18.   20.    9.   16.    8.    6.    4.    6.    0.    4.\n",
      "    2.    5.    6.    3.    5.    1.    1.    2.    1.    4.    1.    0.\n",
      "    0.    2.    0.    0.    1.    0.    2.    0.    6.    1.    0.    3.\n",
      "    1.    0.    0.    0.    1.    0.    0.    0.    0.    0.    1.    0.\n",
      "    1.    0.    0.    1.    0.    0.    0.    0.    0.    0.    1.]\n"
     ]
    },
    {
     "data": {
      "image/png": "[encoded data removed]"
     },
     "output_type": "display_data",
     "metadata": {}
    },
    {
     "name": "stdout",
     "output_type": "stream",
     "text": [
      "0.101361392914\n"
     ]
    }
   ],
   "source": [
    "site=\"rottentomatoes\"\n",
    "X = feat_dict[site]\n",
    "\n",
    "X = normalize(X, norm='l1')\n",
    "num_feat = len(X[0])\n",
    "print \"number of feats \", num_feat\n",
    "\n",
    "K = 100\n",
    "kdist_list = []\n",
    "nbrs = NearestNeighbors(n_neighbors=K, algorithm=\"ball_tree\").fit(X)\n",
    "distances, indices = nbrs.kneighbors(X)\n",
    "for dist in distances:\n",
    "    kdist_list += dist.tolist()[4:5]\n",
    "\n",
    "\n",
    "for index, value in enumerate(kdist_list):\n",
    "    if value > 0.10:\n",
    "        print index, value\n",
    "\n",
    "num_bins = int(num_feat/5)\n",
    "print num_bins, \"num_bins\"\n",
    "n, bins, _ = plt.hist(kdist_list, bins=num_bins)\n",
    "line1 = plt.plot(4,color=\"r\",label=\"question_tf-idf\")\n",
    "\n",
    "print bins\n",
    "print n\n",
    "# plt.yscale('log')\n",
    "plt.show()\n",
    "\n",
    "y = np.array([np.log(x) if x > 0 else 0 for x in n])\n",
    "x = np.array(bins[1:]).reshape(-1, 1)\n",
    "threshold = np.mean(n[100/3:])\n",
    "threshold = 4\n",
    "\n",
    "\n",
    "for idx, val in enumerate(n):\n",
    "    if val < threshold and idx > 5:\n",
    "        eps = bins[idx]\n",
    "        break\n",
    "print eps"
   ]
  },
  {
   "cell_type": "code",
   "execution_count": 8,
   "metadata": {},
   "outputs": [
    {
     "data": {
      "image/png": "[encoded data removed]"
     },
     "output_type": "display_data",
     "metadata": {}
    },
    {
     "data": {
      "text/plain": [
       "array([   0.,   15.,   30.,   45.,   60.,   75.,   90.,  105.,  120.,\n",
       "        135.,  150.])"
      ]
     },
     "execution_count": 8,
     "output_type": "execute_result",
     "metadata": {}
    }
   ],
   "source": [
    "nbrs = NearestNeighbors(radius=eps, algorithm=\"ball_tree\").fit(X)\n",
    "distances, indices = nbrs.radius_neighbors(X, radius=eps)\n",
    "nbr_num_list = []\n",
    "for ind in indices:\n",
    "    nbr_num_list.append(len(ind) - 1)\n",
    "n, bins, _ = plt.hist(nbr_num_list, bins=10)\n",
    "plt.show()\n",
    "bins"
   ]
  },
  {
   "cell_type": "code",
   "execution_count": null,
   "metadata": {},
   "outputs": [],
   "source": [
    ""
   ]
  },
  {
   "cell_type": "code",
   "execution_count": null,
   "metadata": {},
   "outputs": [],
   "source": [
    ""
   ]
  }
 ],
 "metadata": {
  "kernelspec": {
   "display_name": "Python 2",
   "language": "python",
   "name": "python2"
  },
  "language_info": {
   "codemirror_mode": {
    "name": "ipython",
    "version": 2.0
   },
   "file_extension": ".py",
   "mimetype": "text/x-python",
   "name": "python",
   "nbconvert_exporter": "python",
   "pygments_lexer": "ipython2",
   "version": "2.7.11"
  }
 },
 "nbformat": 4,
 "nbformat_minor": 0
}