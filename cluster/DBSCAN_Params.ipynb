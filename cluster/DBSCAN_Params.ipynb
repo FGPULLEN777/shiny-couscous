{
 "cells": [
  {
   "cell_type": "code",
   "execution_count": 2,
   "metadata": {
    "collapsed": false
   },
   "outputs": [],
   "source": [
    "%matplotlib inline"
   ]
  },
  {
   "cell_type": "code",
   "execution_count": 98,
   "metadata": {
    "collapsed": false
   },
   "outputs": [],
   "source": [
    "import sys\n",
    "sys.path.insert(0, \"../script/\")\n",
    "sys.path.insert(0, \"../cluster/\")\n",
    "import numpy as np\n",
    "import matplotlib.pyplot as plt\n",
    "from sklearn.preprocessing import normalize\n",
    "from sklearn.neighbors import NearestNeighbors\n",
    "from sklearn.linear_model import Ridge\n",
    "from sklearn.preprocessing import PolynomialFeatures\n",
    "from sklearn.pipeline import make_pipeline\n",
    "#import seaborn as sns\n",
    "#sns.set(color_codes=True)\n",
    "from sklearn import linear_model\n",
    "import numpy as np\n",
    "from pageCluster import pageCluster"
   ]
  },
  {
   "cell_type": "code",
   "execution_count": 102,
   "metadata": {
    "collapsed": false
   },
   "outputs": [],
   "source": [
    "sitelist = [\"asp\",\"rottentomatoes\",\"douban\",\"hupu\",\"youtube\",\"stackexchange\"]\n",
    "date = \"July30\"\n",
    "sitemap = 100\n",
    "#sitelist = [\"asp\"]\n",
    "feat_dict = {}\n",
    "for site in sitelist:\n",
    "    feat_dict[site] = []\n",
    "    with open(\"./July30/feature/{}/\".format(sitemap) + site + \"/log_tf_idf.txt\") as fin:\n",
    "    #with open(\"./crawling/May1/feature/\"+ site +\"/log_tf_idf.txt\") as fin:\n",
    "        for line in fin:\n",
    "            _, vector = line.strip().split(':')\n",
    "            vector = [float(x) for x in vector.split()]\n",
    "            feat_dict[site].append(vector)\n",
    "    feat_dict[site] = np.asarray(feat_dict[site])"
   ]
  },
  {
   "cell_type": "code",
   "execution_count": 104,
   "metadata": {
    "collapsed": false,
    "scrolled": false
   },
   "outputs": [
    {
     "name": "stdout",
     "output_type": "stream",
     "text": [
      "number of feats  182\n",
      "11 num_bins\n",
      "[ 0.          0.04048045  0.0809609   0.12144135  0.1619218   0.20240225\n",
      "  0.2428827   0.28336316  0.32384361  0.36432406  0.40480451  0.44528496]\n",
      "[ 53.   6.   1.  15.   7.   8.   2.   1.   1.   5.   1.] n is \n"
     ]
    },
    {
     "data": {
      "image/png": "[encoded data removed]",
      "text/plain": [
       "<matplotlib.figure.Figure at 0x1139c24d0>"
      ]
     },
     "metadata": {},
     "output_type": "display_data"
    },
    {
     "name": "stdout",
     "output_type": "stream",
     "text": [
      "100\n",
      "0.0809609016436\n"
     ]
    }
   ],
   "source": [
    "site=\"asp\"\n",
    "X = feat_dict[site]\n",
    "\n",
    "X = normalize(X, norm='l1')\n",
    "num_feat = len(X[0])\n",
    "print \"number of feats \", num_feat\n",
    "\n",
    "K = 90\n",
    "kdist_list = []\n",
    "nbrs = NearestNeighbors(n_neighbors=K, algorithm=\"ball_tree\").fit(X)\n",
    "distances, indices = nbrs.kneighbors(X)\n",
    "for dist in distances:\n",
    "    kdist_list += dist.tolist()[4:5]\n",
    "\n",
    "\n",
    "for index, value in enumerate(kdist_list):\n",
    "    if value > 0.10:\n",
    "        value = value\n",
    "        #print index, value\n",
    "        \n",
    "factor = 16.0\n",
    "num_bins = int(num_feat/factor)\n",
    "print num_bins, \"num_bins\"\n",
    "n, bins, _ = plt.hist(kdist_list, bins=num_bins)\n",
    "#n, bins = np.histogram(kdist_list, bins=num_bins)\n",
    "line1 = plt.plot(4,color=\"r\",label=\"question_tf-idf\")\n",
    "\n",
    "print bins\n",
    "print n, \"n is \"\n",
    "# plt.yscale('log')\n",
    "plt.show()\n",
    "\n",
    "y = np.array([np.log(x) if x > 0 else 0 for x in n])\n",
    "x = np.array(bins[1:]).reshape(-1, 1)\n",
    "threshold = np.mean(n[100/3:])\n",
    "threshold = 4\n",
    "print X.shape[0]\n",
    "total = 0\n",
    "for idx, val in enumerate(n):\n",
    "    total += val\n",
    "    if val < threshold:\n",
    "        eps = bins[idx]\n",
    "        if total > 0.5 * X.shape[0]:\n",
    "            break\n",
    "print eps"
   ]
  },
  {
   "cell_type": "code",
   "execution_count": 103,
   "metadata": {
    "collapsed": false
   },
   "outputs": [
    {
     "name": "stdout",
     "output_type": "stream",
     "text": [
      "debug mode  True stackexchange\n",
      "../Crawler/July30_samples/100/stackexchange/ stackexchange July30  creating allPages \n",
      "debug for pageCluster\n",
      "num_samples 100 <type 'int'>\n",
      "./July30/feature/100/stackexchange feat folder\n",
      "../Crawler/July30_samples/100/stackexchange/ folder Path list\n",
      "our dataset is stackexchange\n",
      "annotation starts\n",
      "write mode !\n",
      "98\n"
     ]
    }
   ],
   "source": [
    "num_clusters = -1\n",
    "cluster_labels = pageCluster(site,date,\"../Crawler/{}_samples/{}/{}/\".format(date,sitemap,site),num_clusters,sitemap, debug=True)"
   ]
  },
  {
   "cell_type": "code",
   "execution_count": 72,
   "metadata": {
    "collapsed": false
   },
   "outputs": [
    {
     "name": "stdout",
     "output_type": "stream",
     "text": [
      "The feature is log-tf-idf with DBSCAN\n",
      "the size of vector is (200, 625)\n",
      "the size of vector is (200, 625)\n",
      "eps is 0.0842813890165\n",
      "number of -1 13\n",
      "we have number of classes from ground truth is 4\n",
      "we have number of classes from clusters is 8\n",
      "Outlier: Cover 13 of 13 total ground truth, and create 24 outlier in prediction. \n",
      "We have 187 pages for ground truth!\n",
      "We have 187 pages after prediction!\n",
      "ground truth data\n",
      "cluster No. is 0 ->{  '0': 31,   }\n",
      "cluster No. is 1 ->{  '0': 8,   }\n",
      "cluster No. is 2 ->{  '0': 4,   }\n",
      "cluster No. is 3 ->{  '1': 20,   }\n",
      "cluster No. is 4 ->{  '0': 4,   }\n",
      "cluster No. is 5 ->{  '0': 8,   }\n",
      "cluster No. is 6 ->{  '6': 67,   }\n",
      "cluster No. is 7 ->{  '6': 21,   }\n",
      "cluster No. is -1 ->{  '0': 24,   }\n",
      "Mutual Info Score is 0.505662069321\n",
      "Adjusted Rand Score is 0.523872041126\n",
      "Micro F-Measure is 0.751896749102\n",
      "Macro F-Measure is 0.809384164223\n",
      "Micro Precision is 1.0\n",
      "Macro Precision is 1.0\n"
     ]
    },
    {
     "data": {
      "text/plain": [
       "(0.7518967491022003,\n",
       " 0.809384164222874,\n",
       " 1.0,\n",
       " 1.0,\n",
       " 0.50566206932084012,\n",
       " 0.5238720411257823)"
      ]
     },
     "execution_count": 72,
     "metadata": {},
     "output_type": "execute_result"
    }
   ],
   "source": [
    "features_type = \"log-tf-idf\"\n",
    "cluster_labels.DBSCAN(features_type, cv=False,eps_val=eps)\n",
    "cluster_labels.Evaluation(site,\"DBSCAN\",features_type)"
   ]
  },
  {
   "cell_type": "code",
   "execution_count": null,
   "metadata": {
    "collapsed": true
   },
   "outputs": [],
   "source": []
  },
  {
   "cell_type": "code",
   "execution_count": null,
   "metadata": {
    "collapsed": true
   },
   "outputs": [],
   "source": []
  }
 ],
 "metadata": {
  "kernelspec": {
   "display_name": "Python 2",
   "language": "python",
   "name": "python2"
  },
  "language_info": {
   "codemirror_mode": {
    "name": "ipython",
    "version": 2
   },
   "file_extension": ".py",
   "mimetype": "text/x-python",
   "name": "python",
   "nbconvert_exporter": "python",
   "pygments_lexer": "ipython2",
   "version": "2.7.11"
  }
 },
 "nbformat": 4,
 "nbformat_minor": 0
}
