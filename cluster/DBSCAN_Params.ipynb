{
 "cells": [
  {
   "cell_type": "code",
   "execution_count": null,
   "metadata": {
    "collapsed": false
   },
   "outputs": [],
   "source": [
    "%matplotlib inline "
   ]
  },
  {
   "cell_type": "code",
   "execution_count": 9,
   "metadata": {
    "collapsed": false,
    "scrolled": true
   },
   "outputs": [
    {
     "ename": "ImportError",
     "evalue": "No module named seaborn",
     "output_type": "error",
     "traceback": [
      "\u001b[0;31m---------------------------------------------------------------------------\u001b[0m",
      "\u001b[0;31mImportError\u001b[0m                               Traceback (most recent call last)",
      "\u001b[0;32m<ipython-input-9-d8c1affbee43>\u001b[0m in \u001b[0;36m<module>\u001b[0;34m()\u001b[0m\n\u001b[1;32m      9\u001b[0m \u001b[0;32mfrom\u001b[0m \u001b[0msklearn\u001b[0m\u001b[0;34m.\u001b[0m\u001b[0mpreprocessing\u001b[0m \u001b[0;32mimport\u001b[0m \u001b[0mPolynomialFeatures\u001b[0m\u001b[0;34m\u001b[0m\u001b[0m\n\u001b[1;32m     10\u001b[0m \u001b[0;32mfrom\u001b[0m \u001b[0msklearn\u001b[0m\u001b[0;34m.\u001b[0m\u001b[0mpipeline\u001b[0m \u001b[0;32mimport\u001b[0m \u001b[0mmake_pipeline\u001b[0m\u001b[0;34m\u001b[0m\u001b[0m\n\u001b[0;32m---> 11\u001b[0;31m \u001b[0;32mimport\u001b[0m \u001b[0mseaborn\u001b[0m \u001b[0;32mas\u001b[0m \u001b[0msns\u001b[0m\u001b[0;34m\u001b[0m\u001b[0m\n\u001b[0m\u001b[1;32m     12\u001b[0m \u001b[0msns\u001b[0m\u001b[0;34m.\u001b[0m\u001b[0mset\u001b[0m\u001b[0;34m(\u001b[0m\u001b[0mcolor_codes\u001b[0m\u001b[0;34m=\u001b[0m\u001b[0mTrue\u001b[0m\u001b[0;34m)\u001b[0m\u001b[0;34m\u001b[0m\u001b[0m\n\u001b[1;32m     13\u001b[0m \u001b[0;32mfrom\u001b[0m \u001b[0msklearn\u001b[0m \u001b[0;32mimport\u001b[0m \u001b[0mlinear_model\u001b[0m\u001b[0;34m\u001b[0m\u001b[0m\n",
      "\u001b[0;31mImportError\u001b[0m: No module named seaborn"
     ]
    }
   ],
   "source": [
    "import sys\n",
    "sys.path.insert(0, \"../script/\")\n",
    "sys.path.insert(0, \"../cluster/\")\n",
    "import numpy as np\n",
    "import matplotlib.pyplot as plt\n",
    "from sklearn.preprocessing import normalize\n",
    "from sklearn.neighbors import NearestNeighbors\n",
    "from sklearn.linear_model import Ridge\n",
    "from sklearn.preprocessing import PolynomialFeatures\n",
    "from sklearn.pipeline import make_pipeline\n",
    "import seaborn as sns\n",
    "sns.set(color_codes=True)\n",
    "from sklearn import linear_model"
   ]
  },
  {
   "cell_type": "code",
   "execution_count": 24,
   "metadata": {
    "collapsed": false
   },
   "outputs": [],
   "source": [
    "sitelist = [\"asp\", \"douban\", \"stackexchange\", \"tripadvisor\",\"youtube\"]\n",
    "feat_dict = {}\n",
    "for site in sitelist:\n",
    "    feat_dict[site] = []\n",
    "    with open(\"./feature/new_\" + site + \"/log_tf_idf.txt\") as fin:\n",
    "        for line in fin:\n",
    "            _, vector = line.strip().split(':')\n",
    "            vector = [float(x) for x in vector.split()]\n",
    "            feat_dict[site].append(vector)\n",
    "    feat_dict[site] = np.asarray(feat_dict[site])"
   ]
  },
  {
   "cell_type": "code",
   "execution_count": 33,
   "metadata": {
    "collapsed": false
   },
   "outputs": [
    {
     "data": {
      "image/png": "[encoded data removed]",
      "text/plain": [
       "<matplotlib.figure.Figure at 0x112d1d910>"
      ]
     },
     "metadata": {},
     "output_type": "display_data"
    },
    {
     "name": "stdout",
     "output_type": "stream",
     "text": [
      "0.159034404331\n"
     ]
    }
   ],
   "source": [
    "site=\"tripadvisor\"\n",
    "X = feat_dict[site]\n",
    "\n",
    "X = normalize(X, norm='l1')\n",
    "\n",
    "K = 100\n",
    "kdist_list = []\n",
    "nbrs = NearestNeighbors(n_neighbors=K, algorithm=\"ball_tree\").fit(X)\n",
    "distances, indices = nbrs.kneighbors(X)\n",
    "for dist in distances:\n",
    "    kdist_list += dist.tolist()[4:5]\n",
    "    \n",
    "n, bins, _ = plt.hist(kdist_list, bins=100)\n",
    "# plt.yscale('log')\n",
    "plt.show()\n",
    "\n",
    "y = np.array([np.log(x) if x > 0 else 0 for x in n])\n",
    "x = np.array(bins[1:]).reshape(-1, 1)\n",
    "threshold = np.mean(n[100/3:])\n",
    "\n",
    "for idx, val in enumerate(n):\n",
    "    if val < threshold and idx > 5:\n",
    "        eps = bins[idx]\n",
    "        break\n",
    "print eps"
   ]
  },
  {
   "cell_type": "code",
   "execution_count": null,
   "metadata": {
    "collapsed": true
   },
   "outputs": [],
   "source": []
  },
  {
   "cell_type": "code",
   "execution_count": 45,
   "metadata": {
    "collapsed": false
   },
   "outputs": [
    {
     "data": {
      "image/png": "[encoded data removed]",
      "text/plain": [
       "<matplotlib.figure.Figure at 0x11958a850>"
      ]
     },
     "metadata": {},
     "output_type": "display_data"
    },
    {
     "data": {
      "text/plain": [
       "array([   0. ,   36.4,   72.8,  109.2,  145.6,  182. ,  218.4,  254.8,\n",
       "        291.2,  327.6,  364. ])"
      ]
     },
     "execution_count": 45,
     "metadata": {},
     "output_type": "execute_result"
    }
   ],
   "source": [
    "nbrs = NearestNeighbors(radius=eps, algorithm=\"ball_tree\").fit(X)\n",
    "distances, indices = nbrs.radius_neighbors(X, radius=eps)\n",
    "nbr_num_list = []\n",
    "for ind in indices:\n",
    "    nbr_num_list.append(len(ind) - 1)\n",
    "n, bins, _ = plt.hist(nbr_num_list, bins=10)\n",
    "plt.show()\n",
    "bins"
   ]
  }
 ],
 "metadata": {
  "kernelspec": {
   "display_name": "Python 2",
   "language": "python",
   "name": "python2"
  },
  "language_info": {
   "codemirror_mode": {
    "name": "ipython",
    "version": 2
   },
   "file_extension": ".py",
   "mimetype": "text/x-python",
   "name": "python",
   "nbconvert_exporter": "python",
   "pygments_lexer": "ipython2",
   "version": "2.7.11"
  }
 },
 "nbformat": 4,
 "nbformat_minor": 0
}
