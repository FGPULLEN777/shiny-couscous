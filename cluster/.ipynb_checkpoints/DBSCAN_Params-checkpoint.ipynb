{
 "cells": [
  {
   "cell_type": "code",
   "execution_count": 2,
   "metadata": {
    "collapsed": false
   },
   "outputs": [],
   "source": [
    "%matplotlib inline"
   ]
  },
  {
   "cell_type": "code",
   "execution_count": 41,
   "metadata": {
    "collapsed": false
   },
   "outputs": [],
   "source": [
    "import sys\n",
    "sys.path.insert(0, \"../script/\")\n",
    "sys.path.insert(0, \"../cluster/\")\n",
    "import numpy as np\n",
    "import matplotlib.pyplot as plt\n",
    "from sklearn.preprocessing import normalize\n",
    "from sklearn.neighbors import NearestNeighbors\n",
    "from sklearn.linear_model import Ridge\n",
    "from sklearn.preprocessing import PolynomialFeatures\n",
    "from sklearn.pipeline import make_pipeline\n",
    "#import seaborn as sns\n",
    "#sns.set(color_codes=True)\n",
    "from sklearn import linear_model\n",
    "import numpy as np\n",
    "from pageCluster import pageCluster"
   ]
  },
  {
   "cell_type": "code",
   "execution_count": 61,
   "metadata": {
    "collapsed": false
   },
   "outputs": [],
   "source": [
    "sitelist = [\"asp\",\"rottentomatoes\",\"douban\",\"hupu\",\"youtube\",\"stackexchange\"]\n",
    "date = \"July30\"\n",
    "sitemap = 100\n",
    "#sitelist = [\"asp\"]\n",
    "feat_dict = {}\n",
    "for site in sitelist:\n",
    "    feat_dict[site] = []\n",
    "    with open(\"./July30/feature/{}/\".format(sitemap) + site + \"/log_tf_idf.txt\") as fin:\n",
    "    #with open(\"./crawling/May1/feature/\"+ site +\"/log_tf_idf.txt\") as fin:\n",
    "        for line in fin:\n",
    "            _, vector = line.strip().split(':')\n",
    "            vector = [float(x) for x in vector.split()]\n",
    "            feat_dict[site].append(vector)\n",
    "    feat_dict[site] = np.asarray(feat_dict[site])"
   ]
  },
  {
   "cell_type": "code",
   "execution_count": 64,
   "metadata": {
    "collapsed": false,
    "scrolled": true
   },
   "outputs": [
    {
     "name": "stdout",
     "output_type": "stream",
     "text": [
      "number of feats  249\n",
      "20 num_bins\n",
      "[ 0.          0.01926815  0.03853631  0.05780446  0.07707261  0.09634076\n",
      "  0.11560892  0.13487707  0.15414522  0.17341338  0.19268153  0.21194968\n",
      "  0.23121783  0.25048599  0.26975414  0.28902229  0.30829045  0.3275586\n",
      "  0.34682675  0.3660949   0.38536306]\n",
      "[ 26.   8.  24.  10.   5.   8.   6.   3.   2.   0.   2.   0.   2.   0.   0.\n",
      "   1.   0.   2.   0.   1.] n is \n"
     ]
    },
    {
     "data": {
      "image/png": "[encoded data removed]",
      "text/plain": [
       "<matplotlib.figure.Figure at 0x10f73db90>"
      ]
     },
     "metadata": {},
     "output_type": "display_data"
    },
    {
     "name": "stdout",
     "output_type": "stream",
     "text": [
      "0.134877069707\n"
     ]
    }
   ],
   "source": [
    "site=\"hupu\"\n",
    "X = feat_dict[site]\n",
    "\n",
    "X = normalize(X, norm='l1')\n",
    "num_feat = len(X[0])\n",
    "print \"number of feats \", num_feat\n",
    "\n",
    "K = 90\n",
    "kdist_list = []\n",
    "nbrs = NearestNeighbors(n_neighbors=K, algorithm=\"ball_tree\").fit(X)\n",
    "distances, indices = nbrs.kneighbors(X)\n",
    "for dist in distances:\n",
    "    kdist_list += dist.tolist()[4:5]\n",
    "\n",
    "\n",
    "for index, value in enumerate(kdist_list):\n",
    "    if value > 0.10:\n",
    "        value = value\n",
    "        #print index, value\n",
    "        \n",
    "factor = 16.0\n",
    "num_bins = int(num_feat/factor)\n",
    "print num_bins, \"num_bins\"\n",
    "n, bins, _ = plt.hist(kdist_list, bins=num_bins)\n",
    "#n, bins = np.histogram(kdist_list, bins=num_bins)\n",
    "line1 = plt.plot(4,color=\"r\",label=\"question_tf-idf\")\n",
    "\n",
    "print bins\n",
    "print n, \"n is \"\n",
    "# plt.yscale('log')\n",
    "plt.show()\n",
    "\n",
    "y = np.array([np.log(x) if x > 0 else 0 for x in n])\n",
    "x = np.array(bins[1:]).reshape(-1, 1)\n",
    "threshold = np.mean(n[100/3:])\n",
    "threshold = 4\n",
    "\n",
    "\n",
    "for idx, val in enumerate(n):\n",
    "    if val < threshold:\n",
    "        eps = bins[idx]\n",
    "        break\n",
    "print eps"
   ]
  },
  {
   "cell_type": "code",
   "execution_count": 60,
   "metadata": {
    "collapsed": false
   },
   "outputs": [
    {
     "name": "stdout",
     "output_type": "stream",
     "text": [
      "debug mode  True hupu\n",
      "../Crawler/July30_samples/100/hupu/ hupu July30  creating allPages \n",
      "debug for pageCluster\n",
      "num_samples 100 <type 'int'>\n",
      "./July30/feature/100/hupu feat folder\n",
      "../Crawler/July30_samples/100/hupu/ folder Path list\n",
      "our dataset is hupu\n",
      "annotation starts\n",
      "write mode !\n",
      "100\n"
     ]
    }
   ],
   "source": [
    "num_clusters = -1\n",
    "cluster_labels = pageCluster(site,date,\"../Crawler/{}_samples/{}/{}/\".format(date,sitemap,site),num_clusters,sitemap, debug=True)"
   ]
  },
  {
   "cell_type": "code",
   "execution_count": 63,
   "metadata": {
    "collapsed": false
   },
   "outputs": [
    {
     "name": "stdout",
     "output_type": "stream",
     "text": [
      "The feature is log-tf-idf with DBSCAN\n",
      "the size of vector is (100, 249)\n",
      "the size of vector is (100, 249)\n",
      "eps is 0.154145222522\n",
      "number of -1 13\n",
      "we have number of classes from ground truth is 5\n",
      "we have number of classes from clusters is 4\n",
      "Outlier: Cover 2 of 13 total ground truth, and create 7 outlier in prediction. \n",
      "We have 87 pages for ground truth!\n",
      "We have 87 pages after prediction!\n",
      "ground truth data\n",
      "cluster No. is 0 ->{  '15': 7,   }\n",
      "cluster No. is 1 ->{  '0': 4,   }\n",
      "cluster No. is 2 ->{  '1': 45,   }\n",
      "cluster No. is 3 ->{  '11': 24,   }\n",
      "cluster No. is -1 ->{  '1': 6,  '11': 1,   }\n",
      "Mutual Info Score is 0.777134556806\n",
      "Adjusted Rand Score is 0.832460029558\n",
      "Micro F-Measure is 0.957497654234\n",
      "Macro F-Measure is 0.979272959184\n",
      "Micro Precision is 0.988505747126\n",
      "Macro Precision is 0.99\n"
     ]
    },
    {
     "data": {
      "text/plain": [
       "(0.9574976542341074,\n",
       " 0.9792729591836735,\n",
       " 0.9885057471264368,\n",
       " 0.99,\n",
       " 0.77713455680596955,\n",
       " 0.8324600295579739)"
      ]
     },
     "execution_count": 63,
     "metadata": {},
     "output_type": "execute_result"
    }
   ],
   "source": [
    "features_type = \"log-tf-idf\"\n",
    "cluster_labels.DBSCAN(features_type, cv=False,eps_val=eps)\n",
    "cluster_labels.Evaluation(site,\"DBSCAN\",features_type)"
   ]
  },
  {
   "cell_type": "code",
   "execution_count": null,
   "metadata": {
    "collapsed": true
   },
   "outputs": [],
   "source": []
  },
  {
   "cell_type": "code",
   "execution_count": null,
   "metadata": {
    "collapsed": true
   },
   "outputs": [],
   "source": []
  }
 ],
 "metadata": {
  "kernelspec": {
   "display_name": "Python 2",
   "language": "python",
   "name": "python2"
  },
  "language_info": {
   "codemirror_mode": {
    "name": "ipython",
    "version": 2
   },
   "file_extension": ".py",
   "mimetype": "text/x-python",
   "name": "python",
   "nbconvert_exporter": "python",
   "pygments_lexer": "ipython2",
   "version": "2.7.11"
  }
 },
 "nbformat": 4,
 "nbformat_minor": 0
}
