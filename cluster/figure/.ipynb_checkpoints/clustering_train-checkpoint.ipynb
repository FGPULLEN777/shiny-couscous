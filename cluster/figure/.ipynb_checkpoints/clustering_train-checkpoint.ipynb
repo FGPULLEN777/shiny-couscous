{
 "cells": [
  {
   "cell_type": "code",
   "execution_count": 1,
   "metadata": {
    "collapsed": false
   },
   "outputs": [
    {
     "name": "stderr",
     "output_type": "stream",
     "text": [
      "/Users/admin/anaconda/lib/python2.7/site-packages/matplotlib/font_manager.py:273: UserWarning: Matplotlib is building the font cache using fc-list. This may take a moment.\n",
      "  warnings.warn('Matplotlib is building the font cache using fc-list. This may take a moment.')\n"
     ]
    }
   ],
   "source": [
    "%matplotlib inline"
   ]
  },
  {
   "cell_type": "code",
   "execution_count": 2,
   "metadata": {
    "collapsed": false
   },
   "outputs": [],
   "source": [
    "import numpy as np\n",
    "\n",
    "import matplotlib.pyplot as plt\n",
    "import matplotlib.patches as patches\n",
    "import matplotlib.path as path\n",
    "import matplotlib.animation as animation"
   ]
  },
  {
   "cell_type": "code",
   "execution_count": 3,
   "metadata": {
    "collapsed": false
   },
   "outputs": [
    {
     "ename": "ValueError",
     "evalue": "incompatible sizes: argument 'height' must be length 6 or scalar",
     "output_type": "error",
     "traceback": [
      "\u001b[0;31m---------------------------------------------------------------------------\u001b[0m",
      "\u001b[0;31mValueError\u001b[0m                                Traceback (most recent call last)",
      "\u001b[0;32m<ipython-input-3-4147dcd43c91>\u001b[0m in \u001b[0;36m<module>\u001b[0;34m()\u001b[0m\n\u001b[1;32m     25\u001b[0m \u001b[0my_step\u001b[0m \u001b[0;34m=\u001b[0m \u001b[0mnp\u001b[0m\u001b[0;34m.\u001b[0m\u001b[0marange\u001b[0m\u001b[0;34m(\u001b[0m\u001b[0my_bound_min\u001b[0m\u001b[0;34m,\u001b[0m \u001b[0my_bound_max\u001b[0m \u001b[0;34m+\u001b[0m \u001b[0;36m0.001\u001b[0m\u001b[0;34m,\u001b[0m \u001b[0;36m0.1\u001b[0m\u001b[0;34m)\u001b[0m\u001b[0;34m\u001b[0m\u001b[0m\n\u001b[1;32m     26\u001b[0m \u001b[0;34m\u001b[0m\u001b[0m\n\u001b[0;32m---> 27\u001b[0;31m \u001b[0mplot_sogou_all_PSCM\u001b[0m \u001b[0;34m=\u001b[0m \u001b[0max1\u001b[0m\u001b[0;34m.\u001b[0m\u001b[0mbar\u001b[0m\u001b[0;34m(\u001b[0m\u001b[0mind\u001b[0m \u001b[0;34m+\u001b[0m \u001b[0;36m0.0\u001b[0m\u001b[0;34m,\u001b[0m \u001b[0mperplexity_sogou_all_PSCM\u001b[0m\u001b[0;34m,\u001b[0m \u001b[0mwidth\u001b[0m\u001b[0;34m,\u001b[0m \u001b[0mcolor\u001b[0m\u001b[0;34m=\u001b[0m\u001b[0;34m'r'\u001b[0m\u001b[0;34m,\u001b[0m \u001b[0mzorder\u001b[0m\u001b[0;34m=\u001b[0m\u001b[0;36m3\u001b[0m\u001b[0;34m)\u001b[0m\u001b[0;34m\u001b[0m\u001b[0m\n\u001b[0m\u001b[1;32m     28\u001b[0m \u001b[0mplot_sogou_all_UBM\u001b[0m \u001b[0;34m=\u001b[0m \u001b[0max1\u001b[0m\u001b[0;34m.\u001b[0m\u001b[0mbar\u001b[0m\u001b[0;34m(\u001b[0m\u001b[0mind\u001b[0m \u001b[0;34m+\u001b[0m \u001b[0;36m0.15\u001b[0m\u001b[0;34m,\u001b[0m \u001b[0mperplexity_sogou_all_UBM\u001b[0m\u001b[0;34m,\u001b[0m \u001b[0mwidth\u001b[0m\u001b[0;34m,\u001b[0m \u001b[0mcolor\u001b[0m\u001b[0;34m=\u001b[0m\u001b[0;34m'b'\u001b[0m\u001b[0;34m,\u001b[0m \u001b[0mzorder\u001b[0m\u001b[0;34m=\u001b[0m\u001b[0;36m3\u001b[0m\u001b[0;34m)\u001b[0m\u001b[0;34m\u001b[0m\u001b[0m\n\u001b[1;32m     29\u001b[0m \u001b[0mplot_sogou_all_DBN\u001b[0m \u001b[0;34m=\u001b[0m \u001b[0max1\u001b[0m\u001b[0;34m.\u001b[0m\u001b[0mbar\u001b[0m\u001b[0;34m(\u001b[0m\u001b[0mind\u001b[0m \u001b[0;34m+\u001b[0m \u001b[0;36m0.3\u001b[0m\u001b[0;34m,\u001b[0m \u001b[0mperplexity_sogou_all_DBN\u001b[0m\u001b[0;34m,\u001b[0m \u001b[0mwidth\u001b[0m\u001b[0;34m,\u001b[0m \u001b[0mcolor\u001b[0m\u001b[0;34m=\u001b[0m\u001b[0;34m'orange'\u001b[0m\u001b[0;34m,\u001b[0m \u001b[0mzorder\u001b[0m\u001b[0;34m=\u001b[0m\u001b[0;36m3\u001b[0m\u001b[0;34m)\u001b[0m\u001b[0;34m\u001b[0m\u001b[0m\n",
      "\u001b[0;32m/Users/admin/anaconda/lib/python2.7/site-packages/matplotlib/__init__.pyc\u001b[0m in \u001b[0;36minner\u001b[0;34m(ax, *args, **kwargs)\u001b[0m\n\u001b[1;32m   1810\u001b[0m                     warnings.warn(msg % (label_namer, func.__name__),\n\u001b[1;32m   1811\u001b[0m                                   RuntimeWarning, stacklevel=2)\n\u001b[0;32m-> 1812\u001b[0;31m             \u001b[0;32mreturn\u001b[0m \u001b[0mfunc\u001b[0m\u001b[0;34m(\u001b[0m\u001b[0max\u001b[0m\u001b[0;34m,\u001b[0m \u001b[0;34m*\u001b[0m\u001b[0margs\u001b[0m\u001b[0;34m,\u001b[0m \u001b[0;34m**\u001b[0m\u001b[0mkwargs\u001b[0m\u001b[0;34m)\u001b[0m\u001b[0;34m\u001b[0m\u001b[0m\n\u001b[0m\u001b[1;32m   1813\u001b[0m         \u001b[0mpre_doc\u001b[0m \u001b[0;34m=\u001b[0m \u001b[0minner\u001b[0m\u001b[0;34m.\u001b[0m\u001b[0m__doc__\u001b[0m\u001b[0;34m\u001b[0m\u001b[0m\n\u001b[1;32m   1814\u001b[0m         \u001b[0;32mif\u001b[0m \u001b[0mpre_doc\u001b[0m \u001b[0;32mis\u001b[0m \u001b[0mNone\u001b[0m\u001b[0;34m:\u001b[0m\u001b[0;34m\u001b[0m\u001b[0m\n",
      "\u001b[0;32m/Users/admin/anaconda/lib/python2.7/site-packages/matplotlib/axes/_axes.pyc\u001b[0m in \u001b[0;36mbar\u001b[0;34m(self, left, height, width, bottom, **kwargs)\u001b[0m\n\u001b[1;32m   2078\u001b[0m         \u001b[0;32mif\u001b[0m \u001b[0mlen\u001b[0m\u001b[0;34m(\u001b[0m\u001b[0mheight\u001b[0m\u001b[0;34m)\u001b[0m \u001b[0;34m!=\u001b[0m \u001b[0mnbars\u001b[0m\u001b[0;34m:\u001b[0m\u001b[0;34m\u001b[0m\u001b[0m\n\u001b[1;32m   2079\u001b[0m             raise ValueError(\"incompatible sizes: argument 'height' \"\n\u001b[0;32m-> 2080\u001b[0;31m                               \"must be length %d or scalar\" % nbars)\n\u001b[0m\u001b[1;32m   2081\u001b[0m         \u001b[0;32mif\u001b[0m \u001b[0mlen\u001b[0m\u001b[0;34m(\u001b[0m\u001b[0mwidth\u001b[0m\u001b[0;34m)\u001b[0m \u001b[0;34m!=\u001b[0m \u001b[0mnbars\u001b[0m\u001b[0;34m:\u001b[0m\u001b[0;34m\u001b[0m\u001b[0m\n\u001b[1;32m   2082\u001b[0m             raise ValueError(\"incompatible sizes: argument 'width' \"\n",
      "\u001b[0;31mValueError\u001b[0m: incompatible sizes: argument 'height' must be length 6 or scalar"
     ]
    },
    {
     "data": {
      "image/png": "[encoded data removed]",
      "text/plain": [
       "<matplotlib.figure.Figure at 0x109f2b450>"
      ]
     },
     "metadata": {},
     "output_type": "display_data"
    }
   ],
   "source": [
    "\n",
    "label_list = [\"stack\", \"asp\", \"youtube\", \"douban\", \"hupu\", \"rotten\"]\n",
    "\n",
    "perplexity_sogou_all_PSCM = [1.26869793974,1.39864913022,1.33562518852,1.27382676636,1.22608992361,1.19050397718]\n",
    "perplexity_sogou_all_UBM = [1.80019961698,1.67631165168,1.48297601591,1.36103570916,1.26860540472,1.20656107397]\n",
    "perplexity_sogou_all_DBN = [1.79969429581,1.65458106152,1.47654411286,1.36430550557,1.27611693155,1.21693111538]\n",
    "perplexity_sogou_all_POM = [5.28527544371,2.09968484069,1.63850518002,1.45247977995,1.33155985467,1.26244181459]\n",
    "perplexity_sogou_all_THCM = [3.24112472143,2.04230760881,1.68010952555,1.49993414993,1.35897433591,1.27544749969]\n",
    "perplexity_sogou_all_TCM = [10.8803304778,2.70055701512,1.85648821962,1.55745974291,1.37460742879,1.27616071474]\n",
    "\n",
    "perplexity_yandex_all_PSCM = [1.2175135565,1.310615147,1.26191876584,1.2204323376,1.19033671115,1.16761655167,1.15255565331,1.13752000606,1.13180328672,1.13421439698]\n",
    "perplexity_yandex_all_UBM = [1.61311206329,1.56158510057,1.3965923173,1.28810660799,1.21874009787,1.16738336771,1.1296691037,1.10523270994,1.08931191252,1.07999793267]\n",
    "perplexity_yandex_all_DBN = [1.61219440331,1.52967536126,1.3860576648,1.28595736763,1.22268842922,1.17462111286,1.13897861569,1.1172833446,1.10420473811,1.10002291202]\n",
    "perplexity_yandex_all_POM = [6.1312151171,1.96842857594,1.57376825107,1.39216785577,1.29963739208,1.23591853206,1.19213201778,1.16795183693,1.15285096091,1.1448733212]\n",
    "perplexity_yandex_all_THCM = [3.523695013,1.88777207334,1.5693710237,1.39355067645,1.29344916382,1.22171553557,1.17089666225,1.14128754982,1.12307639932,1.12057308115]\n",
    "perplexity_yandex_all_TCM = [10.8792793983,3.58485579083,2.39707562092,1.87420849558,1.6235464124,1.45300661772,1.3428921338,1.28091523811,1.24406286231,1.22667762893]\n",
    "\n",
    "\n",
    "N = len(label_list)\n",
    "fig, (ax1, ax2) = plt.subplots(nrows=2, ncols=1, figsize=(8,12))\n",
    "width = 0.15\n",
    "ind = np.arange(N)\n",
    "y_bound_min = 1.0\n",
    "y_bound_max = 2.0\n",
    "y_step = np.arange(y_bound_min, y_bound_max + 0.001, 0.1)\n",
    "\n",
    "plot_sogou_all_PSCM = ax1.bar(ind + 0.0, perplexity_sogou_all_PSCM, width, color='r', zorder=3)\n",
    "plot_sogou_all_UBM = ax1.bar(ind + 0.15, perplexity_sogou_all_UBM, width, color='b', zorder=3)\n",
    "plot_sogou_all_DBN = ax1.bar(ind + 0.3, perplexity_sogou_all_DBN, width, color='orange', zorder=3)\n",
    "plot_sogou_all_POM = ax1.bar(ind + 0.45, perplexity_sogou_all_POM, width, color='g', zorder=3)\n",
    "plot_sogou_all_THCM = ax1.bar(ind + 0.6, perplexity_sogou_all_THCM, width, color='pink', zorder=3)\n",
    "plot_sogou_all_TCM = ax1.bar(ind + 0.75, perplexity_sogou_all_TCM, width, color='yellow', zorder=3)\n",
    "\n",
    "ax1.legend( (plot_sogou_all_PSCM[0], plot_sogou_all_UBM[0], plot_sogou_all_DBN[0], plot_sogou_all_POM[0], plot_sogou_all_THCM[0], plot_sogou_all_TCM[0]), ('PSCM', 'UBM', 'DBN', 'POM', 'THCM', 'TCM') , fontsize='large')\n",
    "ax1.grid(zorder=0, linestyle='--')\n",
    "ax1.set_ybound(y_bound_min, y_bound_max)\n",
    "ax1.yaxis.set_ticks(y_step)\n",
    "ax1.set_ylabel('Perplexity', weight='bold', size='large')\n",
    "ax1.set_xlabel('(a) Data-C', weight='bold', size='large')\n",
    "ax1.set_xticks(ind+width)\n",
    "ax1.set_xticklabels(label_list, size='large')\n",
    "ax1.set_yticklabels(y_step, size='large')\n",
    "\n",
    "\n",
    "plot_yandex_all_PSCM = ax2.bar(ind + 0.0, perplexity_yandex_all_PSCM, width, color='r', zorder=3)\n",
    "plot_yandex_all_UBM = ax2.bar(ind + 0.15, perplexity_yandex_all_UBM, width, color='b', zorder=3)\n",
    "plot_yandex_all_DBN = ax2.bar(ind + 0.3, perplexity_yandex_all_DBN, width, color='orange', zorder=3)\n",
    "plot_yandex_all_POM = ax2.bar(ind + 0.45, perplexity_yandex_all_POM, width, color='g', zorder=3)\n",
    "plot_yandex_all_THCM = ax2.bar(ind + 0.6, perplexity_yandex_all_THCM, width, color='pink', zorder=3)\n",
    "plot_yandex_all_TCM = ax2.bar(ind + 0.75, perplexity_yandex_all_TCM, width, color='yellow', zorder=3)\n",
    "\n",
    "ax2.legend( (plot_yandex_all_PSCM[0], plot_yandex_all_UBM[0], plot_yandex_all_DBN[0], plot_yandex_all_POM[0], plot_yandex_all_THCM[0], plot_yandex_all_TCM[0]), ('PSCM', 'UBM', 'DBN', 'POM', 'THCM', 'TCM') , fontsize='large')\n",
    "ax2.grid(zorder=0, linestyle='--')\n",
    "ax2.set_ybound(y_bound_min, y_bound_max)\n",
    "ax2.yaxis.set_ticks(y_step)\n",
    "ax2.set_ylabel('Perplexity', weight='bold', size='large')\n",
    "ax2.set_xlabel('(b) Data-Y', weight='bold', size='large')\n",
    "ax2.set_xticks(ind+width)\n",
    "ax2.set_xticklabels(label_list, size='large')\n",
    "ax2.set_yticklabels(y_step, size='large')\n",
    "\n",
    "plt.show()"
   ]
  },
  {
   "cell_type": "code",
   "execution_count": null,
   "metadata": {
    "collapsed": true
   },
   "outputs": [],
   "source": []
  }
 ],
 "metadata": {
  "kernelspec": {
   "display_name": "Python 2",
   "language": "python",
   "name": "python2"
  },
  "language_info": {
   "codemirror_mode": {
    "name": "ipython",
    "version": 2
   },
   "file_extension": ".py",
   "mimetype": "text/x-python",
   "name": "python",
   "nbconvert_exporter": "python",
   "pygments_lexer": "ipython2",
   "version": "2.7.11"
  }
 },
 "nbformat": 4,
 "nbformat_minor": 0
}
